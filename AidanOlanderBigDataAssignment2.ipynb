{
 "cells": [
  {
   "cell_type": "markdown",
   "id": "12b80325",
   "metadata": {},
   "source": [
    "### Step 1: Make sure Spark is running correctly"
   ]
  },
  {
   "cell_type": "code",
   "execution_count": 1,
   "id": "89609a40",
   "metadata": {},
   "outputs": [
    {
     "data": {
      "text/plain": [
       "'3.3.2'"
      ]
     },
     "execution_count": 1,
     "metadata": {},
     "output_type": "execute_result"
    }
   ],
   "source": [
    "spark.version"
   ]
  },
  {
   "cell_type": "code",
   "execution_count": 2,
   "id": "9615bb47",
   "metadata": {},
   "outputs": [
    {
     "data": {
      "text/html": [
       "\n",
       "            <div>\n",
       "                <p><b>SparkSession - hive</b></p>\n",
       "                \n",
       "        <div>\n",
       "            <p><b>SparkContext</b></p>\n",
       "\n",
       "            <p><a href=\"http://192.168.4.25:4040\">Spark UI</a></p>\n",
       "\n",
       "            <dl>\n",
       "              <dt>Version</dt>\n",
       "                <dd><code>v3.3.2</code></dd>\n",
       "              <dt>Master</dt>\n",
       "                <dd><code>local[*]</code></dd>\n",
       "              <dt>AppName</dt>\n",
       "                <dd><code>PySparkShell</code></dd>\n",
       "            </dl>\n",
       "        </div>\n",
       "        \n",
       "            </div>\n",
       "        "
      ],
      "text/plain": [
       "<pyspark.sql.session.SparkSession at 0x7f93f8836a90>"
      ]
     },
     "execution_count": 2,
     "metadata": {},
     "output_type": "execute_result"
    }
   ],
   "source": [
    "spark"
   ]
  },
  {
   "cell_type": "markdown",
   "id": "656ad1c6",
   "metadata": {},
   "source": [
    "### Step 2: Input data and create RDD using SparkContext (sc)"
   ]
  },
  {
   "cell_type": "code",
   "execution_count": 3,
   "id": "b02a0f1b",
   "metadata": {},
   "outputs": [],
   "source": [
    "input_path = \"Assignment_2_movies_42.txt\""
   ]
  },
  {
   "cell_type": "code",
   "execution_count": 4,
   "id": "e8c7597e",
   "metadata": {},
   "outputs": [],
   "source": [
    "rdd = sc.textFile(input_path)"
   ]
  },
  {
   "cell_type": "code",
   "execution_count": 5,
   "id": "10145b98",
   "metadata": {
    "scrolled": true
   },
   "outputs": [
    {
     "data": {
      "text/plain": [
       "['user4,m1,4',\n",
       " 'user9,m1,5',\n",
       " 'user8,m2,4',\n",
       " 'user1,m1,3',\n",
       " 'user1,m1,5',\n",
       " 'user2,m2,3',\n",
       " 'user2,m3,5',\n",
       " 'user3,m3,4',\n",
       " 'user6,m3,4',\n",
       " 'user7,m3,34',\n",
       " 'user4,m1,3',\n",
       " 'user4,m1,24',\n",
       " 'user4,m1,4',\n",
       " 'user5,m2,4',\n",
       " 'user6,m3,5',\n",
       " 'user7,m3,1',\n",
       " 'user3,m1,4',\n",
       " 'user4,m3,5',\n",
       " 'user9,m6,2',\n",
       " 'user9,m6,3',\n",
       " 'user9,m6,4',\n",
       " 'user9,m6,1',\n",
       " 'user4,m4,3',\n",
       " 'user5,m4,3',\n",
       " 'user9,m4,4',\n",
       " 'user8,m4,2',\n",
       " 'user1,m4,4',\n",
       " 'user1,m4,1',\n",
       " 'user1,m4,8',\n",
       " 'user7,m1,5',\n",
       " 'user7,m1,22',\n",
       " 'user2,m2,3',\n",
       " 'user2,m3,5',\n",
       " 'user3,m3,4',\n",
       " 'user6,m3,4',\n",
       " 'user7,m3,34',\n",
       " 'user4,m1,3',\n",
       " 'user4,m1,24',\n",
       " 'user4,m1,4',\n",
       " 'user5,m2,4',\n",
       " 'user9,m7,2',\n",
       " 'user6,m7,3']"
      ]
     },
     "execution_count": 5,
     "metadata": {},
     "output_type": "execute_result"
    }
   ],
   "source": [
    "rdd.collect()"
   ]
  },
  {
   "cell_type": "code",
   "execution_count": 6,
   "id": "7f2b58eb",
   "metadata": {},
   "outputs": [
    {
     "name": "stderr",
     "output_type": "stream",
     "text": [
      "\r",
      "[Stage 1:>                                                          (0 + 2) / 2]\r",
      "\r",
      "                                                                                \r"
     ]
    },
    {
     "data": {
      "text/plain": [
       "42"
      ]
     },
     "execution_count": 6,
     "metadata": {},
     "output_type": "execute_result"
    }
   ],
   "source": [
    "rdd.count()"
   ]
  },
  {
   "cell_type": "markdown",
   "id": "53462c3f",
   "metadata": {},
   "source": [
    "### Step 3: Tokenize data to obtain movie ID and rating"
   ]
  },
  {
   "cell_type": "code",
   "execution_count": 7,
   "id": "be7cc71f",
   "metadata": {},
   "outputs": [],
   "source": [
    "def rating_pair(record):\n",
    "    tokens = record.split(\",\")\n",
    "    return (tokens[1], float(tokens[2]))"
   ]
  },
  {
   "cell_type": "code",
   "execution_count": 8,
   "id": "1d74b61a",
   "metadata": {},
   "outputs": [],
   "source": [
    "movie_rates = rdd.map(rating_pair)"
   ]
  },
  {
   "cell_type": "code",
   "execution_count": 9,
   "id": "6903eaf2",
   "metadata": {
    "scrolled": true
   },
   "outputs": [
    {
     "data": {
      "text/plain": [
       "[('m1', 4.0),\n",
       " ('m1', 5.0),\n",
       " ('m2', 4.0),\n",
       " ('m1', 3.0),\n",
       " ('m1', 5.0),\n",
       " ('m2', 3.0),\n",
       " ('m3', 5.0),\n",
       " ('m3', 4.0),\n",
       " ('m3', 4.0),\n",
       " ('m3', 34.0),\n",
       " ('m1', 3.0),\n",
       " ('m1', 24.0),\n",
       " ('m1', 4.0),\n",
       " ('m2', 4.0),\n",
       " ('m3', 5.0),\n",
       " ('m3', 1.0),\n",
       " ('m1', 4.0),\n",
       " ('m3', 5.0),\n",
       " ('m6', 2.0),\n",
       " ('m6', 3.0),\n",
       " ('m6', 4.0),\n",
       " ('m6', 1.0),\n",
       " ('m4', 3.0),\n",
       " ('m4', 3.0),\n",
       " ('m4', 4.0),\n",
       " ('m4', 2.0),\n",
       " ('m4', 4.0),\n",
       " ('m4', 1.0),\n",
       " ('m4', 8.0),\n",
       " ('m1', 5.0),\n",
       " ('m1', 22.0),\n",
       " ('m2', 3.0),\n",
       " ('m3', 5.0),\n",
       " ('m3', 4.0),\n",
       " ('m3', 4.0),\n",
       " ('m3', 34.0),\n",
       " ('m1', 3.0),\n",
       " ('m1', 24.0),\n",
       " ('m1', 4.0),\n",
       " ('m2', 4.0),\n",
       " ('m7', 2.0),\n",
       " ('m7', 3.0)]"
      ]
     },
     "execution_count": 9,
     "metadata": {},
     "output_type": "execute_result"
    }
   ],
   "source": [
    "movie_rates.collect()"
   ]
  },
  {
   "cell_type": "markdown",
   "id": "f4f0d654",
   "metadata": {},
   "source": [
    "### Step 4: Satisfy rules 1 & 2, make sure rating is between 2 and 5"
   ]
  },
  {
   "cell_type": "code",
   "execution_count": 11,
   "id": "6283ae3c",
   "metadata": {},
   "outputs": [],
   "source": [
    "rdd4 = movie_rates.filter(lambda x: x[1] >= 2 and x[1] <= 5)"
   ]
  },
  {
   "cell_type": "code",
   "execution_count": 12,
   "id": "73eada33",
   "metadata": {},
   "outputs": [
    {
     "data": {
      "text/plain": [
       "33"
      ]
     },
     "execution_count": 12,
     "metadata": {},
     "output_type": "execute_result"
    }
   ],
   "source": [
    "rdd4.count()"
   ]
  },
  {
   "cell_type": "code",
   "execution_count": 13,
   "id": "c9fd9890",
   "metadata": {
    "scrolled": true
   },
   "outputs": [
    {
     "data": {
      "text/plain": [
       "[('m1', 4.0),\n",
       " ('m1', 5.0),\n",
       " ('m2', 4.0),\n",
       " ('m1', 3.0),\n",
       " ('m1', 5.0),\n",
       " ('m2', 3.0),\n",
       " ('m3', 5.0),\n",
       " ('m3', 4.0),\n",
       " ('m3', 4.0),\n",
       " ('m1', 3.0),\n",
       " ('m1', 4.0),\n",
       " ('m2', 4.0),\n",
       " ('m3', 5.0),\n",
       " ('m1', 4.0),\n",
       " ('m3', 5.0),\n",
       " ('m6', 2.0),\n",
       " ('m6', 3.0),\n",
       " ('m6', 4.0),\n",
       " ('m4', 3.0),\n",
       " ('m4', 3.0),\n",
       " ('m4', 4.0),\n",
       " ('m4', 2.0),\n",
       " ('m4', 4.0),\n",
       " ('m1', 5.0),\n",
       " ('m2', 3.0),\n",
       " ('m3', 5.0),\n",
       " ('m3', 4.0),\n",
       " ('m3', 4.0),\n",
       " ('m1', 3.0),\n",
       " ('m1', 4.0),\n",
       " ('m2', 4.0),\n",
       " ('m7', 2.0),\n",
       " ('m7', 3.0)]"
      ]
     },
     "execution_count": 13,
     "metadata": {},
     "output_type": "execute_result"
    }
   ],
   "source": [
    "rdd4.collect()"
   ]
  },
  {
   "cell_type": "markdown",
   "id": "bb528371",
   "metadata": {},
   "source": [
    "### Step 5: Identify '5' star ratings"
   ]
  },
  {
   "cell_type": "code",
   "execution_count": 14,
   "id": "813607ec",
   "metadata": {},
   "outputs": [],
   "source": [
    "def fiveRatingsCheck(pair):\n",
    "    fiveList = []\n",
    "    if pair[1] == 5:\n",
    "        fiveList.append(pair[0])\n",
    "    else:\n",
    "        pass\n",
    "    return fiveList"
   ]
  },
  {
   "cell_type": "code",
   "execution_count": 15,
   "id": "3fcc52fb",
   "metadata": {},
   "outputs": [],
   "source": [
    "rdd5 = rdd4.flatMap(fiveRatingsCheck)"
   ]
  },
  {
   "cell_type": "code",
   "execution_count": 16,
   "id": "ef6a5181",
   "metadata": {},
   "outputs": [
    {
     "data": {
      "text/plain": [
       "['m1', 'm1', 'm3', 'm3', 'm3', 'm1', 'm3']"
      ]
     },
     "execution_count": 16,
     "metadata": {},
     "output_type": "execute_result"
    }
   ],
   "source": [
    "rdd5.collect()"
   ]
  },
  {
   "cell_type": "code",
   "execution_count": 17,
   "id": "d17492ba",
   "metadata": {},
   "outputs": [],
   "source": [
    "topMovies = (\"rating-5-movies: \", str(set(rdd5.collect())))"
   ]
  },
  {
   "cell_type": "markdown",
   "id": "b4556348",
   "metadata": {},
   "source": [
    "### Step 6: Sort and shuffle phase"
   ]
  },
  {
   "cell_type": "code",
   "execution_count": 18,
   "id": "9d3b398a",
   "metadata": {},
   "outputs": [],
   "source": [
    "groupKey = rdd4.groupByKey().sortByKey()"
   ]
  },
  {
   "cell_type": "code",
   "execution_count": 19,
   "id": "3738058c",
   "metadata": {},
   "outputs": [
    {
     "data": {
      "text/plain": [
       "[('m1', <pyspark.resultiterable.ResultIterable at 0x7f93d90ea970>),\n",
       " ('m2', <pyspark.resultiterable.ResultIterable at 0x7f93e839f8e0>),\n",
       " ('m3', <pyspark.resultiterable.ResultIterable at 0x7f93e839f6a0>),\n",
       " ('m4', <pyspark.resultiterable.ResultIterable at 0x7f93e839f6d0>),\n",
       " ('m6', <pyspark.resultiterable.ResultIterable at 0x7f93e839f490>),\n",
       " ('m7', <pyspark.resultiterable.ResultIterable at 0x7f93e839f3d0>)]"
      ]
     },
     "execution_count": 19,
     "metadata": {},
     "output_type": "execute_result"
    }
   ],
   "source": [
    "groupKey.collect()"
   ]
  },
  {
   "cell_type": "code",
   "execution_count": 20,
   "id": "efc92052",
   "metadata": {},
   "outputs": [],
   "source": [
    "groupKey1 = groupKey.mapValues(lambda x: list(x))"
   ]
  },
  {
   "cell_type": "code",
   "execution_count": 21,
   "id": "79a3a9a8",
   "metadata": {},
   "outputs": [
    {
     "data": {
      "text/plain": [
       "[('m1', [4.0, 5.0, 3.0, 5.0, 3.0, 4.0, 4.0, 5.0, 3.0, 4.0]),\n",
       " ('m2', [4.0, 3.0, 4.0, 3.0, 4.0]),\n",
       " ('m3', [5.0, 4.0, 4.0, 5.0, 5.0, 5.0, 4.0, 4.0]),\n",
       " ('m4', [3.0, 3.0, 4.0, 2.0, 4.0]),\n",
       " ('m6', [2.0, 3.0, 4.0]),\n",
       " ('m7', [2.0, 3.0])]"
      ]
     },
     "execution_count": 21,
     "metadata": {},
     "output_type": "execute_result"
    }
   ],
   "source": [
    "groupKey1.collect()"
   ]
  },
  {
   "cell_type": "markdown",
   "id": "f456d013",
   "metadata": {},
   "source": [
    "### Step 7: Calculate average ratings"
   ]
  },
  {
   "cell_type": "code",
   "execution_count": 22,
   "id": "39bf7a7c",
   "metadata": {},
   "outputs": [
    {
     "data": {
      "text/plain": [
       "[('m1', 4.0), ('m2', 3.6), ('m3', 4.5), ('m4', 3.2), ('m6', 3.0), ('m7', 2.5)]"
      ]
     },
     "execution_count": 22,
     "metadata": {},
     "output_type": "execute_result"
    }
   ],
   "source": [
    "groupKey1.mapValues(lambda x:sum(x)/len(x)).collect()"
   ]
  },
  {
   "cell_type": "code",
   "execution_count": 23,
   "id": "838397c5",
   "metadata": {},
   "outputs": [],
   "source": [
    "meanValues = groupKey1.mapValues(lambda x:sum(x)/len(x))"
   ]
  },
  {
   "cell_type": "code",
   "execution_count": 24,
   "id": "5e09a57e",
   "metadata": {},
   "outputs": [
    {
     "data": {
      "text/plain": [
       "[('m1', 4.0), ('m2', 3.6), ('m3', 4.5), ('m4', 3.2), ('m6', 3.0)]"
      ]
     },
     "execution_count": 24,
     "metadata": {},
     "output_type": "execute_result"
    }
   ],
   "source": [
    "groupKey1.mapValues(lambda x:sum(x)/len(x)).filter(lambda x: x[1] >= 3.0).collect()"
   ]
  },
  {
   "cell_type": "markdown",
   "id": "9c2b206e",
   "metadata": {},
   "source": [
    "### Step 8: Satisfy rule 3, filter out average ratings below 3"
   ]
  },
  {
   "cell_type": "code",
   "execution_count": 25,
   "id": "8ba934af",
   "metadata": {},
   "outputs": [],
   "source": [
    "filteredMean = groupKey1.mapValues(lambda x:sum(x)/len(x)).filter(lambda x: x[1] >= 3.0)"
   ]
  },
  {
   "cell_type": "code",
   "execution_count": 26,
   "id": "909b4c37",
   "metadata": {},
   "outputs": [],
   "source": [
    "averageRatings = filteredMean.collect()"
   ]
  },
  {
   "cell_type": "markdown",
   "id": "8d1a24d7",
   "metadata": {},
   "source": [
    "### Step 9: Output 5 star movies list and average ratings"
   ]
  },
  {
   "cell_type": "code",
   "execution_count": 27,
   "id": "b24d4722",
   "metadata": {},
   "outputs": [
    {
     "name": "stdout",
     "output_type": "stream",
     "text": [
      "('rating-5-movies: ', \"{'m1', 'm3'}\")\n",
      "[('m1', 4.0), ('m2', 3.6), ('m3', 4.5), ('m4', 3.2), ('m6', 3.0)]\n"
     ]
    }
   ],
   "source": [
    "print(topMovies)\n",
    "print(averageRatings)"
   ]
  },
  {
   "cell_type": "code",
   "execution_count": null,
   "id": "2f06a660",
   "metadata": {},
   "outputs": [],
   "source": []
  }
 ],
 "metadata": {
  "kernelspec": {
   "display_name": "Python 3 (ipykernel)",
   "language": "python",
   "name": "python3"
  },
  "language_info": {
   "codemirror_mode": {
    "name": "ipython",
    "version": 3
   },
   "file_extension": ".py",
   "mimetype": "text/x-python",
   "name": "python",
   "nbconvert_exporter": "python",
   "pygments_lexer": "ipython3",
   "version": "3.9.12"
  }
 },
 "nbformat": 4,
 "nbformat_minor": 5
}
