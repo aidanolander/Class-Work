{
 "cells": [
  {
   "cell_type": "markdown",
   "id": "44ab745f",
   "metadata": {},
   "source": [
    "# Big Data Assignment 5: Unique Triangles in GraphFrames"
   ]
  },
  {
   "cell_type": "markdown",
   "id": "94912100",
   "metadata": {},
   "source": [
    "You may download the file from: https://github.com/mahmoudparsian/big-data-mapreduce-course/blob/master/data/edges.txt"
   ]
  },
  {
   "cell_type": "code",
   "execution_count": 1,
   "id": "4638ae30",
   "metadata": {},
   "outputs": [
    {
     "data": {
      "text/html": [
       "\n",
       "            <div>\n",
       "                <p><b>SparkSession - hive</b></p>\n",
       "                \n",
       "        <div>\n",
       "            <p><b>SparkContext</b></p>\n",
       "\n",
       "            <p><a href=\"http://172.31.18.250:4040\">Spark UI</a></p>\n",
       "\n",
       "            <dl>\n",
       "              <dt>Version</dt>\n",
       "                <dd><code>v3.3.2</code></dd>\n",
       "              <dt>Master</dt>\n",
       "                <dd><code>local[*]</code></dd>\n",
       "              <dt>AppName</dt>\n",
       "                <dd><code>PySparkShell</code></dd>\n",
       "            </dl>\n",
       "        </div>\n",
       "        \n",
       "            </div>\n",
       "        "
      ],
      "text/plain": [
       "<pyspark.sql.session.SparkSession at 0x7f9da91f56d0>"
      ]
     },
     "execution_count": 1,
     "metadata": {},
     "output_type": "execute_result"
    }
   ],
   "source": [
    "spark"
   ]
  },
  {
   "cell_type": "code",
   "execution_count": 2,
   "id": "5987c8b3",
   "metadata": {},
   "outputs": [
    {
     "data": {
      "text/plain": [
       "'3.3.2'"
      ]
     },
     "execution_count": 2,
     "metadata": {},
     "output_type": "execute_result"
    }
   ],
   "source": [
    "spark.version"
   ]
  },
  {
   "cell_type": "code",
   "execution_count": 3,
   "id": "f9035459",
   "metadata": {},
   "outputs": [],
   "source": [
    "#pip install graphframes doesn't seem to work\n",
    "#launch from terminal with: $SPARK_HOME/bin/pyspark --packages graphframes:graphframes:0.8.2-spark3.2-s_2.12"
   ]
  },
  {
   "cell_type": "code",
   "execution_count": 4,
   "id": "075e7be3",
   "metadata": {},
   "outputs": [],
   "source": [
    "#make sure this runs\n",
    "from graphframes import *"
   ]
  },
  {
   "cell_type": "code",
   "execution_count": 5,
   "id": "cc405eaa",
   "metadata": {},
   "outputs": [],
   "source": [
    "# if used from terminal: \n",
    "#terminal input: --packages graphframes:graphframes:0.8.2-spark3.2-s_2.12   AidanOlanderAssign5.py   edges.txt"
   ]
  },
  {
   "cell_type": "code",
   "execution_count": 6,
   "id": "33b8b183",
   "metadata": {},
   "outputs": [],
   "source": [
    "#input_path = sys.argv[1]  \n",
    "#    print(\"input_path: {}\".format(input_path))"
   ]
  },
  {
   "cell_type": "code",
   "execution_count": 7,
   "id": "7310ca79",
   "metadata": {},
   "outputs": [],
   "source": [
    "input_path='edges.txt'"
   ]
  },
  {
   "cell_type": "markdown",
   "id": "efc8d368",
   "metadata": {},
   "source": [
    "Create first DataFrame from edges.txt"
   ]
  },
  {
   "cell_type": "code",
   "execution_count": 8,
   "id": "6d404697",
   "metadata": {},
   "outputs": [],
   "source": [
    "df_start = spark\\\n",
    "          .read\\\n",
    "          .format(\"csv\")\\\n",
    "          .option(\"header\",\"false\")\\\n",
    "          .option(\"inferSchema\", \"true\")\\\n",
    "          .load(input_path) "
   ]
  },
  {
   "cell_type": "code",
   "execution_count": 9,
   "id": "d87c520d",
   "metadata": {},
   "outputs": [
    {
     "name": "stdout",
     "output_type": "stream",
     "text": [
      "+---+---+------+\n",
      "|_c0|_c1|   _c2|\n",
      "+---+---+------+\n",
      "| 10| 20|friend|\n",
      "| 20| 30|follow|\n",
      "| 30| 10|friend|\n",
      "| 10| 50|follow|\n",
      "| 50| 70|friend|\n",
      "| 70| 80|follow|\n",
      "| 80| 50|friend|\n",
      "| 50|  1|friend|\n",
      "|  1|  2|follow|\n",
      "|  2|  3|friend|\n",
      "|  3|  1|follow|\n",
      "|  4|  1|follow|\n",
      "|  4|  5|follow|\n",
      "|  5|  6|friend|\n",
      "|  6|  4|friend|\n",
      "|  7|  4|follow|\n",
      "|  8|  4|follow|\n",
      "|  9| 10|friend|\n",
      "| 10| 11|friend|\n",
      "| 11|  9|follow|\n",
      "+---+---+------+\n",
      "only showing top 20 rows\n",
      "\n"
     ]
    }
   ],
   "source": [
    "df_start.show()"
   ]
  },
  {
   "cell_type": "markdown",
   "id": "7b29bcdf",
   "metadata": {},
   "source": [
    "Turn DF into a table for queries"
   ]
  },
  {
   "cell_type": "code",
   "execution_count": 10,
   "id": "cad09dcf",
   "metadata": {},
   "outputs": [],
   "source": [
    "df_start.createOrReplaceTempView(\"input_table\")"
   ]
  },
  {
   "cell_type": "code",
   "execution_count": 11,
   "id": "95a7ad7e",
   "metadata": {},
   "outputs": [],
   "source": [
    "start_edges = df_start.withColumnRenamed(\"_c0\",\"src\")\\\n",
    ".withColumnRenamed(\"_c1\",\"dst\").withColumnRenamed(\"_c2\", \"relation\")"
   ]
  },
  {
   "cell_type": "markdown",
   "id": "10821d68",
   "metadata": {},
   "source": [
    "Make it so the edges DF is undirected by duplicating in reverse"
   ]
  },
  {
   "cell_type": "code",
   "execution_count": 12,
   "id": "8f5e22d5",
   "metadata": {},
   "outputs": [],
   "source": [
    "edges1 = start_edges.selectExpr(\"src\", \"dst\")\n",
    "edges2 = start_edges.selectExpr(\"dst\", \"src\")\n",
    "edges = edges1.union(edges2)"
   ]
  },
  {
   "cell_type": "code",
   "execution_count": 13,
   "id": "93001569",
   "metadata": {
    "scrolled": true
   },
   "outputs": [
    {
     "data": {
      "text/plain": [
       "32"
      ]
     },
     "execution_count": 13,
     "metadata": {},
     "output_type": "execute_result"
    }
   ],
   "source": [
    "start_edges.count()"
   ]
  },
  {
   "cell_type": "code",
   "execution_count": 14,
   "id": "5785f029",
   "metadata": {
    "scrolled": true
   },
   "outputs": [
    {
     "data": {
      "text/plain": [
       "64"
      ]
     },
     "execution_count": 14,
     "metadata": {},
     "output_type": "execute_result"
    }
   ],
   "source": [
    "edges.count()"
   ]
  },
  {
   "cell_type": "markdown",
   "id": "1411074d",
   "metadata": {},
   "source": [
    "Create the vertices DF by getting distinct ids from UNION of src and dst columns"
   ]
  },
  {
   "cell_type": "code",
   "execution_count": 15,
   "id": "0305e6bd",
   "metadata": {},
   "outputs": [],
   "source": [
    "vert_query = \"SELECT DISTINCT * FROM (\\\n",
    "SELECT _c0 FROM input_table \\\n",
    "UNION \\\n",
    "SELECT _c1 FROM input_table) as tmp\""
   ]
  },
  {
   "cell_type": "code",
   "execution_count": 16,
   "id": "855a6f79",
   "metadata": {},
   "outputs": [],
   "source": [
    "verts = spark.sql(vert_query)"
   ]
  },
  {
   "cell_type": "code",
   "execution_count": 17,
   "id": "be9c63fd",
   "metadata": {},
   "outputs": [],
   "source": [
    "verts = verts.withColumnRenamed(\"_c0\", \"id\")"
   ]
  },
  {
   "cell_type": "code",
   "execution_count": 18,
   "id": "72a41e55",
   "metadata": {},
   "outputs": [
    {
     "data": {
      "text/plain": [
       "22"
      ]
     },
     "execution_count": 18,
     "metadata": {},
     "output_type": "execute_result"
    }
   ],
   "source": [
    "verts.count()"
   ]
  },
  {
   "cell_type": "markdown",
   "id": "60a9b0f6",
   "metadata": {},
   "source": [
    "Make sure both DFs are in the correct format for GraphFrame:\n",
    " - Vertices with \"id\" column\n",
    " - Edges with \"src\" and \"dst\" columns"
   ]
  },
  {
   "cell_type": "code",
   "execution_count": 19,
   "id": "49596b7e",
   "metadata": {},
   "outputs": [
    {
     "name": "stdout",
     "output_type": "stream",
     "text": [
      "root\n",
      " |-- id: integer (nullable = true)\n",
      "\n",
      "root\n",
      " |-- src: integer (nullable = true)\n",
      " |-- dst: integer (nullable = true)\n",
      "\n"
     ]
    }
   ],
   "source": [
    "verts.printSchema()\n",
    "edges.printSchema()"
   ]
  },
  {
   "cell_type": "markdown",
   "id": "ff1ecc66",
   "metadata": {},
   "source": [
    "Create the GraphFrame using parameter DFs of vertices and edges"
   ]
  },
  {
   "cell_type": "code",
   "execution_count": 20,
   "id": "bcdf8001",
   "metadata": {},
   "outputs": [
    {
     "name": "stderr",
     "output_type": "stream",
     "text": [
      "/Users/aidanolander/Documents/Apache-Spark/spark-3.3.2-bin-hadoop3/python/pyspark/sql/dataframe.py:148: UserWarning: DataFrame.sql_ctx is an internal property, and will be removed in future releases. Use DataFrame.sparkSession instead.\n",
      "  warnings.warn(\n"
     ]
    }
   ],
   "source": [
    "triGraphs = GraphFrame(verts, edges)"
   ]
  },
  {
   "cell_type": "markdown",
   "id": "02dc001b",
   "metadata": {},
   "source": [
    "Create pattern for motif finding, in this case a triangle, and search GraphFrame for it"
   ]
  },
  {
   "cell_type": "code",
   "execution_count": 21,
   "id": "76de8425",
   "metadata": {},
   "outputs": [],
   "source": [
    "find_pattern = \"(a)-[]->(b); (b)-[]->(c); (c)-[]->(a)\""
   ]
  },
  {
   "cell_type": "code",
   "execution_count": 22,
   "id": "0c456b4f",
   "metadata": {},
   "outputs": [
    {
     "name": "stderr",
     "output_type": "stream",
     "text": [
      "/Users/aidanolander/Documents/Apache-Spark/spark-3.3.2-bin-hadoop3/python/pyspark/sql/dataframe.py:127: UserWarning: DataFrame constructor is internal. Do not directly use it.\n",
      "  warnings.warn(\"DataFrame constructor is internal. Do not directly use it.\")\n"
     ]
    }
   ],
   "source": [
    "triangles = triGraphs.find(find_pattern)"
   ]
  },
  {
   "cell_type": "markdown",
   "id": "fb7e0b75",
   "metadata": {},
   "source": [
    "Includes duplicate triangles, so use filter to select unique triangles only"
   ]
  },
  {
   "cell_type": "code",
   "execution_count": 23,
   "id": "f7d7e228",
   "metadata": {},
   "outputs": [],
   "source": [
    "unique_triangles = triangles[(triangles.a > triangles.b) &\n",
    "                              (triangles.b > triangles.c)]"
   ]
  },
  {
   "cell_type": "markdown",
   "id": "3aaa4fea",
   "metadata": {},
   "source": [
    "Lastly, format it with looping vertice as well (a at end) as requested in assignment format"
   ]
  },
  {
   "cell_type": "code",
   "execution_count": 24,
   "id": "81bb8326",
   "metadata": {},
   "outputs": [],
   "source": [
    "unique_triangles.createOrReplaceTempView(\"end_table\")"
   ]
  },
  {
   "cell_type": "code",
   "execution_count": 25,
   "id": "e84f7b2e",
   "metadata": {},
   "outputs": [],
   "source": [
    "final_triangles = spark.sql(\"SELECT a, b, c, a FROM end_table\")"
   ]
  },
  {
   "cell_type": "code",
   "execution_count": 26,
   "id": "153a17b9",
   "metadata": {
    "scrolled": true
   },
   "outputs": [
    {
     "name": "stdout",
     "output_type": "stream",
     "text": [
      "+----+----+----+----+\n",
      "|   a|   b|   c|   a|\n",
      "+----+----+----+----+\n",
      "|{13}| {3}| {1}|{13}|\n",
      "|{13}| {4}| {1}|{13}|\n",
      "| {6}| {5}| {4}| {6}|\n",
      "| {3}| {2}| {1}| {3}|\n",
      "|{80}|{70}|{50}|{80}|\n",
      "|{11}|{10}| {9}|{11}|\n",
      "|{30}|{20}|{10}|{30}|\n",
      "+----+----+----+----+\n",
      "\n"
     ]
    }
   ],
   "source": [
    "final_triangles.show()"
   ]
  },
  {
   "cell_type": "markdown",
   "id": "c130a342",
   "metadata": {},
   "source": [
    "Check the math to be sure!"
   ]
  },
  {
   "cell_type": "code",
   "execution_count": 27,
   "id": "c1ea19d6",
   "metadata": {},
   "outputs": [
    {
     "name": "stdout",
     "output_type": "stream",
     "text": [
      "6 possible verstions of each triangle \n",
      "so 6 * final_triangles.count() should equal triangles.count()\n",
      "Total triangles: 42\n",
      "Unique triangles: 7\n",
      "6 times 7 = 42\n"
     ]
    }
   ],
   "source": [
    "print(\"6 possible verstions of each triangle \\n\\\n",
    "so 6 * final_triangles.count() should equal triangles.count()\")\n",
    "print(\"Total triangles: {}\".format(triangles.count()))\n",
    "print(\"Unique triangles: {}\".format(final_triangles.count()))\n",
    "print(\"6 times {} = {}\".format(final_triangles.count(), final_triangles.count()*6))"
   ]
  },
  {
   "cell_type": "code",
   "execution_count": null,
   "id": "70630c0d",
   "metadata": {},
   "outputs": [],
   "source": []
  }
 ],
 "metadata": {
  "kernelspec": {
   "display_name": "Python 3 (ipykernel)",
   "language": "python",
   "name": "python3"
  },
  "language_info": {
   "codemirror_mode": {
    "name": "ipython",
    "version": 3
   },
   "file_extension": ".py",
   "mimetype": "text/x-python",
   "name": "python",
   "nbconvert_exporter": "python",
   "pygments_lexer": "ipython3",
   "version": "3.9.12"
  }
 },
 "nbformat": 4,
 "nbformat_minor": 5
}
