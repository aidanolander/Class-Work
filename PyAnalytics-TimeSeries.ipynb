{
 "cells": [
  {
   "cell_type": "markdown",
   "metadata": {},
   "source": [
    "# HW3"
   ]
  },
  {
   "cell_type": "markdown",
   "metadata": {},
   "source": [
    "<b>Instructions:</b> Write your answers in the empty code cells below."
   ]
  },
  {
   "cell_type": "markdown",
   "metadata": {},
   "source": [
    "<b>Penalties:</b> You will incur penalties if:\n",
    "<ul>\n",
    "<li>Your code is wrong</li>\n",
    "<li>Your code does not work on different data</li>\n",
    "<li>You use for loops (unless explicitly permitted)</li>\n",
    "</ul>"
   ]
  },
  {
   "cell_type": "markdown",
   "metadata": {},
   "source": [
    "## Problem"
   ]
  },
  {
   "cell_type": "markdown",
   "metadata": {},
   "source": [
    "Start by executing the following code, which creates a Series object <b>stock</b> of share prices of Nvidia. "
   ]
  },
  {
   "cell_type": "code",
   "execution_count": 1,
   "metadata": {},
   "outputs": [],
   "source": [
    "import pandas as pd\n",
    "import numpy as np\n",
    "data = pd.read_csv('NVDA.csv',index_col=0, parse_dates=True)\n",
    "#data = pd.read_csv('NVDA.csv',index_col=0)\n",
    "#data.index=data1.index.astype('datetime64[ns]')\n",
    "\n",
    "stock = data['Close']"
   ]
  },
  {
   "cell_type": "code",
   "execution_count": 2,
   "metadata": {},
   "outputs": [],
   "source": [
    "# print all the outputs in a cell\n",
    "from IPython.core.interactiveshell import InteractiveShell\n",
    "InteractiveShell.ast_node_interactivity = \"all\""
   ]
  },
  {
   "cell_type": "code",
   "execution_count": 3,
   "metadata": {},
   "outputs": [],
   "source": [
    "#Set to 2 decimal places, and display all columns (and up to 300 rows)\n",
    "pd.set_option('display.float_format', lambda x: '%.2f' % x)\n",
    "pd.set_option('display.max_columns', None)\n",
    "#pd.set_option('display.max_rows', 300)"
   ]
  },
  {
   "cell_type": "code",
   "execution_count": 4,
   "metadata": {},
   "outputs": [
    {
     "name": "stdout",
     "output_type": "stream",
     "text": [
      "%pylab is deprecated, use %matplotlib inline and import the required libraries.\n",
      "Populating the interactive namespace from numpy and matplotlib\n"
     ]
    },
    {
     "data": {
      "text/plain": [
       "<AxesSubplot:xlabel='Date'>"
      ]
     },
     "execution_count": 4,
     "metadata": {},
     "output_type": "execute_result"
    },
    {
     "data": {
      "image/png": "[encoded data removed]",
      "text/plain": [
       "<Figure size 432x288 with 1 Axes>"
      ]
     },
     "metadata": {
      "needs_background": "light"
     },
     "output_type": "display_data"
    }
   ],
   "source": [
    "%pylab inline\n",
    "stock.plot()"
   ]
  },
  {
   "cell_type": "code",
   "execution_count": 5,
   "metadata": {},
   "outputs": [
    {
     "data": {
      "text/plain": [
       "Date\n",
       "1999-01-22   0.41\n",
       "1999-01-25   0.45\n",
       "1999-01-26   0.42\n",
       "1999-01-27   0.42\n",
       "1999-01-28   0.42\n",
       "Name: Close, dtype: float64"
      ]
     },
     "execution_count": 5,
     "metadata": {},
     "output_type": "execute_result"
    },
    {
     "data": {
      "text/plain": [
       "Date\n",
       "2022-10-06   131.30\n",
       "2022-10-07   120.76\n",
       "2022-10-10   116.70\n",
       "2022-10-11   115.86\n",
       "2022-10-12   115.00\n",
       "Name: Close, dtype: float64"
      ]
     },
     "execution_count": 5,
     "metadata": {},
     "output_type": "execute_result"
    }
   ],
   "source": [
    "stock.head()\n",
    "stock.tail()"
   ]
  },
  {
   "cell_type": "markdown",
   "metadata": {},
   "source": [
    "Use the Series <i>stock</i> to answer the following questions."
   ]
  },
  {
   "cell_type": "markdown",
   "metadata": {},
   "source": [
    "## Question 1"
   ]
  },
  {
   "cell_type": "markdown",
   "metadata": {},
   "source": [
    "### Q1.1, When is the first date this stock close at more than 130 dollars? (pick the closest date in Camino)"
   ]
  },
  {
   "cell_type": "code",
   "execution_count": 51,
   "metadata": {},
   "outputs": [
    {
     "data": {
      "text/plain": [
       "<bound method Series.idxmin of Date\n",
       "2020-08-28   131.48\n",
       "Name: Close, dtype: float64>"
      ]
     },
     "execution_count": 51,
     "metadata": {},
     "output_type": "execute_result"
    }
   ],
   "source": [
    "stock[stock>130].head(1).idxmin"
   ]
  },
  {
   "cell_type": "markdown",
   "metadata": {},
   "source": [
    "### Q1.2, After stock price hit 130 dollar, how many trading days it took to reach the historical high? (pick the closest number of days in Camino)"
   ]
  },
  {
   "cell_type": "code",
   "execution_count": 7,
   "metadata": {},
   "outputs": [],
   "source": [
    "s2 = stock.nlargest(1).idxmax()"
   ]
  },
  {
   "cell_type": "code",
   "execution_count": 8,
   "metadata": {},
   "outputs": [
    {
     "data": {
      "text/plain": [
       "Timestamp('2021-11-29 00:00:00')"
      ]
     },
     "execution_count": 8,
     "metadata": {},
     "output_type": "execute_result"
    }
   ],
   "source": [
    "s2"
   ]
  },
  {
   "cell_type": "code",
   "execution_count": 9,
   "metadata": {},
   "outputs": [],
   "source": [
    "s1 = stock[stock>130].head(1).idxmax()"
   ]
  },
  {
   "cell_type": "code",
   "execution_count": 10,
   "metadata": {},
   "outputs": [
    {
     "data": {
      "text/plain": [
       "Timestamp('2020-08-28 00:00:00')"
      ]
     },
     "execution_count": 10,
     "metadata": {},
     "output_type": "execute_result"
    }
   ],
   "source": [
    "s1"
   ]
  },
  {
   "cell_type": "code",
   "execution_count": 11,
   "metadata": {},
   "outputs": [
    {
     "data": {
      "text/plain": [
       "Date\n",
       "2020-08-28   131.48\n",
       "2020-08-31   133.74\n",
       "2020-09-01   138.21\n",
       "2020-09-02   143.46\n",
       "2020-09-03   130.15\n",
       "              ...  \n",
       "2021-11-22   319.56\n",
       "2021-11-23   317.46\n",
       "2021-11-24   326.74\n",
       "2021-11-26   315.03\n",
       "2021-11-29   333.76\n",
       "Name: Close, Length: 316, dtype: float64"
      ]
     },
     "execution_count": 11,
     "metadata": {},
     "output_type": "execute_result"
    }
   ],
   "source": [
    "stock[s1:s2]"
   ]
  },
  {
   "cell_type": "code",
   "execution_count": 12,
   "metadata": {},
   "outputs": [
    {
     "data": {
      "text/plain": [
       "316"
      ]
     },
     "execution_count": 12,
     "metadata": {},
     "output_type": "execute_result"
    }
   ],
   "source": [
    "len(stock[s1:s2])"
   ]
  },
  {
   "cell_type": "markdown",
   "metadata": {},
   "source": [
    "### Question 2"
   ]
  },
  {
   "cell_type": "markdown",
   "metadata": {},
   "source": [
    "### Find the top 5 largest one-day % gain (in % compared to the closing cost of the previous trading day). Make sure that your output is a Series object that shows both date and the % gain. (pick the date closest to the day with the largest gain ratio in Camino)"
   ]
  },
  {
   "cell_type": "code",
   "execution_count": 13,
   "metadata": {},
   "outputs": [
    {
     "data": {
      "text/plain": [
       "Date\n",
       "1999-01-22      NaN\n",
       "1999-01-25     0.04\n",
       "1999-01-26    -0.04\n",
       "1999-01-27    -0.00\n",
       "1999-01-28    -0.00\n",
       "              ...  \n",
       "2022-10-06    -0.79\n",
       "2022-10-07   -10.54\n",
       "2022-10-10    -4.06\n",
       "2022-10-11    -0.84\n",
       "2022-10-12    -0.86\n",
       "Name: Close, Length: 5971, dtype: float64"
      ]
     },
     "execution_count": 13,
     "metadata": {},
     "output_type": "execute_result"
    }
   ],
   "source": [
    "stock-stock.shift(1)"
   ]
  },
  {
   "cell_type": "code",
   "execution_count": 14,
   "metadata": {},
   "outputs": [
    {
     "data": {
      "text/plain": [
       "Date\n",
       "1999-01-22     NaN\n",
       "1999-01-25    0.10\n",
       "1999-01-26   -0.08\n",
       "1999-01-27   -0.00\n",
       "1999-01-28   -0.00\n",
       "              ... \n",
       "2022-10-06   -0.01\n",
       "2022-10-07   -0.08\n",
       "2022-10-10   -0.03\n",
       "2022-10-11   -0.01\n",
       "2022-10-12   -0.01\n",
       "Name: Close, Length: 5971, dtype: float64"
      ]
     },
     "execution_count": 14,
     "metadata": {},
     "output_type": "execute_result"
    }
   ],
   "source": [
    "(stock-stock.shift(1))/stock.shift(1)"
   ]
  },
  {
   "cell_type": "code",
   "execution_count": 15,
   "metadata": {},
   "outputs": [
    {
     "data": {
      "text/plain": [
       "Date\n",
       "2000-03-07   42.41\n",
       "2003-05-09   33.06\n",
       "2001-01-03   30.69\n",
       "2016-11-11   29.81\n",
       "2000-03-13   26.48\n",
       "Name: Close, dtype: float64"
      ]
     },
     "execution_count": 15,
     "metadata": {},
     "output_type": "execute_result"
    }
   ],
   "source": [
    "((stock-stock.shift(1))/stock.shift(1)*100).nlargest(5)"
   ]
  },
  {
   "cell_type": "code",
   "execution_count": 16,
   "metadata": {},
   "outputs": [
    {
     "data": {
      "text/plain": [
       "pandas.core.series.Series"
      ]
     },
     "execution_count": 16,
     "metadata": {},
     "output_type": "execute_result"
    }
   ],
   "source": [
    "type(((stock-stock.shift(1))/stock.shift(1)*100).nlargest(5))"
   ]
  },
  {
   "cell_type": "markdown",
   "metadata": {},
   "source": [
    "## Question 3"
   ]
  },
  {
   "cell_type": "markdown",
   "metadata": {},
   "source": [
    "###  With following investment strategy: buy on day 1, sell on day 3. If based on this strategy, what's the most dollars amount you can lose in one trading?  Also report the buying and selling date for that particular trade. ( pick the closest dollar amount it dropped in Camino)"
   ]
  },
  {
   "cell_type": "code",
   "execution_count": 17,
   "metadata": {},
   "outputs": [
    {
     "data": {
      "text/plain": [
       "Date\n",
       "1999-01-22   0.41\n",
       "1999-01-25   0.45\n",
       "1999-01-26   0.42\n",
       "1999-01-27   0.42\n",
       "1999-01-28   0.42\n",
       "Name: Close, dtype: float64"
      ]
     },
     "execution_count": 17,
     "metadata": {},
     "output_type": "execute_result"
    }
   ],
   "source": [
    "stock.head(5)"
   ]
  },
  {
   "cell_type": "code",
   "execution_count": 18,
   "metadata": {},
   "outputs": [
    {
     "data": {
      "text/plain": [
       "Date\n",
       "1999-01-22   0.45\n",
       "1999-01-25   0.42\n",
       "1999-01-26   0.42\n",
       "1999-01-27   0.42\n",
       "1999-01-28   0.40\n",
       "Name: Close, dtype: float64"
      ]
     },
     "execution_count": 18,
     "metadata": {},
     "output_type": "execute_result"
    }
   ],
   "source": [
    "stock.shift(-1).head(5)"
   ]
  },
  {
   "cell_type": "code",
   "execution_count": 19,
   "metadata": {},
   "outputs": [
    {
     "data": {
      "text/plain": [
       "Date\n",
       "2022-04-04   -29.53\n",
       "2022-02-16   -28.69\n",
       "2022-02-09   -27.56\n",
       "2021-12-15   -26.58\n",
       "2022-01-03   -25.17\n",
       "Name: Close, dtype: float64"
      ]
     },
     "execution_count": 19,
     "metadata": {},
     "output_type": "execute_result"
    }
   ],
   "source": [
    "(stock.shift(-2)-stock).nsmallest(5)"
   ]
  },
  {
   "cell_type": "markdown",
   "metadata": {},
   "source": [
    "## Question 4"
   ]
  },
  {
   "cell_type": "markdown",
   "metadata": {},
   "source": [
    "### In which days did we observe that the price has increased more than 60% within the 9 preceding trading sessions? Report your result as a Series (d,gain) where *d* is the trading session date when the increase was observed and *gain* is the maximum percentage gain (%) observed over the 9 days preceding session(today compare with previous 9 trading days).\n",
    "#### *Hint:* use a **rolling** minimum . Today + 9 more days -> use rolling(10). (pick the closest date that has the highest gain ratio in Camino) "
   ]
  },
  {
   "cell_type": "code",
   "execution_count": 20,
   "metadata": {},
   "outputs": [
    {
     "data": {
      "text/plain": [
       "Date\n",
       "1999-01-22      NaN\n",
       "1999-01-25      NaN\n",
       "1999-01-26      NaN\n",
       "1999-01-27     0.42\n",
       "1999-01-28     0.43\n",
       "              ...  \n",
       "2022-10-06   130.05\n",
       "2022-10-07   128.95\n",
       "2022-10-10   125.21\n",
       "2022-10-11   121.16\n",
       "2022-10-12   117.08\n",
       "Name: Close, Length: 5971, dtype: float64"
      ]
     },
     "execution_count": 20,
     "metadata": {},
     "output_type": "execute_result"
    }
   ],
   "source": [
    "stock.rolling(4).mean()"
   ]
  },
  {
   "cell_type": "code",
   "execution_count": 21,
   "metadata": {},
   "outputs": [
    {
     "data": {
      "text/plain": [
       "Date\n",
       "1999-01-22    NaN\n",
       "1999-01-25    NaN\n",
       "1999-01-26    NaN\n",
       "1999-01-27    NaN\n",
       "1999-01-28    NaN\n",
       "1999-01-29    NaN\n",
       "1999-02-01    NaN\n",
       "1999-02-02    NaN\n",
       "1999-02-03    NaN\n",
       "1999-02-04   0.37\n",
       "1999-02-05   0.37\n",
       "1999-02-08   0.37\n",
       "1999-02-09   0.37\n",
       "1999-02-10   0.37\n",
       "1999-02-11   0.37\n",
       "Name: Close, dtype: float64"
      ]
     },
     "execution_count": 21,
     "metadata": {},
     "output_type": "execute_result"
    }
   ],
   "source": [
    "stock.rolling(10).min().head(15)"
   ]
  },
  {
   "cell_type": "code",
   "execution_count": 22,
   "metadata": {},
   "outputs": [],
   "source": [
    "minWithin9 = stock.rolling(10).min()"
   ]
  },
  {
   "cell_type": "code",
   "execution_count": 23,
   "metadata": {},
   "outputs": [],
   "source": [
    "over60p = ((stock - minWithin9)/minWithin9) > .6"
   ]
  },
  {
   "cell_type": "code",
   "execution_count": 24,
   "metadata": {},
   "outputs": [
    {
     "data": {
      "text/plain": [
       "Date\n",
       "1999-01-22    False\n",
       "1999-01-25    False\n",
       "1999-01-26    False\n",
       "1999-01-27    False\n",
       "1999-01-28    False\n",
       "              ...  \n",
       "2022-10-06    False\n",
       "2022-10-07    False\n",
       "2022-10-10    False\n",
       "2022-10-11    False\n",
       "2022-10-12    False\n",
       "Name: Close, Length: 5971, dtype: bool"
      ]
     },
     "execution_count": 24,
     "metadata": {},
     "output_type": "execute_result"
    }
   ],
   "source": [
    "over60p"
   ]
  },
  {
   "cell_type": "code",
   "execution_count": 26,
   "metadata": {},
   "outputs": [
    {
     "data": {
      "text/plain": [
       "Date\n",
       "2000-02-18   1.40\n",
       "2000-02-22   1.36\n",
       "2000-02-23   1.37\n",
       "2000-03-09   2.09\n",
       "2000-03-10   2.46\n",
       "2000-03-13   3.11\n",
       "2000-03-14   2.29\n",
       "2000-03-15   2.20\n",
       "2000-03-16   1.96\n",
       "2000-03-17   2.08\n",
       "2001-01-11   2.00\n",
       "2001-10-12   3.37\n",
       "2001-10-15   3.35\n",
       "Name: Close, dtype: float64"
      ]
     },
     "execution_count": 26,
     "metadata": {},
     "output_type": "execute_result"
    }
   ],
   "source": [
    "stock[over60p]"
   ]
  },
  {
   "cell_type": "code",
   "execution_count": 27,
   "metadata": {},
   "outputs": [
    {
     "data": {
      "text/plain": [
       "Date\n",
       "2000-02-18   0.79\n",
       "2000-02-22   0.83\n",
       "2000-02-23   0.85\n",
       "2000-03-09   1.21\n",
       "2000-03-10   1.21\n",
       "2000-03-13   1.21\n",
       "2000-03-14   1.21\n",
       "2000-03-15   1.21\n",
       "2000-03-16   1.22\n",
       "2000-03-17   1.22\n",
       "2001-01-11   1.25\n",
       "2001-10-12   1.99\n",
       "2001-10-15   1.99\n",
       "Name: Close, dtype: float64"
      ]
     },
     "execution_count": 27,
     "metadata": {},
     "output_type": "execute_result"
    }
   ],
   "source": [
    "minWithin9[over60p]"
   ]
  },
  {
   "cell_type": "code",
   "execution_count": 28,
   "metadata": {},
   "outputs": [
    {
     "data": {
      "text/plain": [
       "Date\n",
       "2000-02-18   0.61\n",
       "2000-02-22   0.53\n",
       "2000-02-23   0.52\n",
       "2000-03-09   0.88\n",
       "2000-03-10   1.25\n",
       "2000-03-13   1.90\n",
       "2000-03-14   1.09\n",
       "2000-03-15   0.99\n",
       "2000-03-16   0.74\n",
       "2000-03-17   0.86\n",
       "2001-01-11   0.75\n",
       "2001-10-12   1.38\n",
       "2001-10-15   1.36\n",
       "Name: Close, dtype: float64"
      ]
     },
     "execution_count": 28,
     "metadata": {},
     "output_type": "execute_result"
    }
   ],
   "source": [
    "stock[over60p] - minWithin9[over60p]"
   ]
  },
  {
   "cell_type": "code",
   "execution_count": 29,
   "metadata": {},
   "outputs": [
    {
     "data": {
      "text/plain": [
       "Date\n",
       "2000-02-18   0.77\n",
       "2000-02-22   0.64\n",
       "2000-02-23   0.61\n",
       "2000-03-09   0.73\n",
       "2000-03-10   1.04\n",
       "2000-03-13   1.58\n",
       "2000-03-14   0.90\n",
       "2000-03-15   0.82\n",
       "2000-03-16   0.61\n",
       "2000-03-17   0.71\n",
       "2001-01-11   0.60\n",
       "2001-10-12   0.69\n",
       "2001-10-15   0.69\n",
       "Name: Close, dtype: float64"
      ]
     },
     "execution_count": 29,
     "metadata": {},
     "output_type": "execute_result"
    }
   ],
   "source": [
    "(stock[over60p] - minWithin9[over60p])/minWithin9[over60p]"
   ]
  },
  {
   "cell_type": "code",
   "execution_count": 30,
   "metadata": {},
   "outputs": [],
   "source": [
    "maxPercentGain = ((stock[over60p] - minWithin9[over60p])/minWithin9[over60p])*100"
   ]
  },
  {
   "cell_type": "code",
   "execution_count": 31,
   "metadata": {},
   "outputs": [
    {
     "data": {
      "text/plain": [
       "Date\n",
       "2000-02-18    77.01\n",
       "2000-02-22    64.26\n",
       "2000-02-23    61.16\n",
       "2000-03-09    73.11\n",
       "2000-03-10   103.67\n",
       "2000-03-13   157.61\n",
       "2000-03-14    90.08\n",
       "2000-03-15    82.31\n",
       "2000-03-16    60.98\n",
       "2000-03-17    70.73\n",
       "2001-01-11    60.33\n",
       "2001-10-12    69.30\n",
       "2001-10-15    68.55\n",
       "Name: Close, dtype: float64"
      ]
     },
     "execution_count": 31,
     "metadata": {},
     "output_type": "execute_result"
    }
   ],
   "source": [
    "maxPercentGain"
   ]
  },
  {
   "cell_type": "markdown",
   "metadata": {},
   "source": [
    "## Question 5"
   ]
  },
  {
   "cell_type": "markdown",
   "metadata": {},
   "source": [
    "### What was the **worst** possible \"buy&sell\" operation? Find the two days x and y so that the % loss resulting from buying in x and selling in y (with y after x) is maximized. Your code should work for any data. \n",
    "#### *Hint:* Use method cummax() or method cummin(). *Cummax/Cummin* returns the maximum/minimum value encountered so far. Make sure to return the trading days x and y, as well as the % loss resulting from buying in x and selling in y.\n",
    "#### (Fill in blank for the buying and selling dates in Camino with the format 'buying-date/selling-date' (for example, 2001-01-01/2010-12-31)"
   ]
  },
  {
   "cell_type": "code",
   "execution_count": 50,
   "metadata": {},
   "outputs": [
    {
     "data": {
      "text/plain": [
       "Date\n",
       "1999-01-22     0.41\n",
       "1999-01-25     0.45\n",
       "1999-01-26     0.42\n",
       "1999-01-27     0.42\n",
       "1999-01-28     0.42\n",
       "              ...  \n",
       "2022-10-06   131.30\n",
       "2022-10-07   120.76\n",
       "2022-10-10   116.70\n",
       "2022-10-11   115.86\n",
       "2022-10-12   115.00\n",
       "Name: Close, Length: 5971, dtype: float64"
      ]
     },
     "execution_count": 50,
     "metadata": {},
     "output_type": "execute_result"
    }
   ],
   "source": [
    "stock"
   ]
  },
  {
   "cell_type": "code",
   "execution_count": 46,
   "metadata": {},
   "outputs": [
    {
     "data": {
      "text/plain": [
       "Timestamp('2021-11-29 00:00:00')"
      ]
     },
     "execution_count": 46,
     "metadata": {},
     "output_type": "execute_result"
    }
   ],
   "source": [
    "stock.cummax().nlargest(1).idxmax()"
   ]
  },
  {
   "cell_type": "code",
   "execution_count": 45,
   "metadata": {},
   "outputs": [
    {
     "data": {
      "text/plain": [
       "Timestamp('1999-04-26 00:00:00')"
      ]
     },
     "execution_count": 45,
     "metadata": {},
     "output_type": "execute_result"
    }
   ],
   "source": [
    "stock.cummin().nsmallest(1).idxmin()"
   ]
  },
  {
   "cell_type": "code",
   "execution_count": 60,
   "metadata": {},
   "outputs": [
    {
     "data": {
      "text/plain": [
       "Date\n",
       "1999-01-22      0.00\n",
       "1999-01-25      0.00\n",
       "1999-01-26     -0.04\n",
       "1999-01-27     -0.04\n",
       "1999-01-28     -0.04\n",
       "               ...  \n",
       "2022-10-06   -202.46\n",
       "2022-10-07   -213.00\n",
       "2022-10-10   -217.06\n",
       "2022-10-11   -217.90\n",
       "2022-10-12   -218.76\n",
       "Name: Close, Length: 5971, dtype: float64"
      ]
     },
     "execution_count": 60,
     "metadata": {},
     "output_type": "execute_result"
    }
   ],
   "source": [
    "stock - stock.cummax()"
   ]
  },
  {
   "cell_type": "code",
   "execution_count": 62,
   "metadata": {},
   "outputs": [],
   "source": [
    "bigLoss = stock - stock.cummax()"
   ]
  },
  {
   "cell_type": "code",
   "execution_count": 64,
   "metadata": {},
   "outputs": [
    {
     "data": {
      "text/plain": [
       "Date\n",
       "2022-10-12   -218.76\n",
       "2022-10-11   -217.90\n",
       "2022-10-10   -217.06\n",
       "2022-10-07   -213.00\n",
       "2022-09-30   -212.37\n",
       "Name: Close, dtype: float64"
      ]
     },
     "execution_count": 64,
     "metadata": {},
     "output_type": "execute_result"
    }
   ],
   "source": [
    "bigLoss.nsmallest(5)"
   ]
  },
  {
   "cell_type": "code",
   "execution_count": 65,
   "metadata": {},
   "outputs": [
    {
     "data": {
      "text/plain": [
       "Date\n",
       "1999-01-22    0.00\n",
       "1999-01-25    0.00\n",
       "1999-01-26   -0.08\n",
       "1999-01-27   -0.08\n",
       "1999-01-28   -0.08\n",
       "              ... \n",
       "2022-10-06   -0.61\n",
       "2022-10-07   -0.64\n",
       "2022-10-10   -0.65\n",
       "2022-10-11   -0.65\n",
       "2022-10-12   -0.66\n",
       "Name: Close, Length: 5971, dtype: float64"
      ]
     },
     "execution_count": 65,
     "metadata": {},
     "output_type": "execute_result"
    }
   ],
   "source": [
    "(stock-stock.cummax())/stock.cummax()"
   ]
  },
  {
   "cell_type": "code",
   "execution_count": 67,
   "metadata": {},
   "outputs": [],
   "source": [
    "bigLossPercent = ((stock-stock.cummax())/stock.cummax()).nsmallest(5)"
   ]
  },
  {
   "cell_type": "code",
   "execution_count": 74,
   "metadata": {},
   "outputs": [
    {
     "data": {
      "text/plain": [
       "Date\n",
       "2002-10-09   -0.90\n",
       "2002-10-08   -0.90\n",
       "2002-10-07   -0.89\n",
       "2002-10-10   -0.89\n",
       "2002-10-04   -0.89\n",
       "Name: Close, dtype: float64"
      ]
     },
     "execution_count": 74,
     "metadata": {},
     "output_type": "execute_result"
    }
   ],
   "source": [
    "bigLossPercent"
   ]
  },
  {
   "cell_type": "code",
   "execution_count": 78,
   "metadata": {},
   "outputs": [
    {
     "data": {
      "text/plain": [
       "Timestamp('2002-10-09 00:00:00')"
      ]
     },
     "execution_count": 78,
     "metadata": {},
     "output_type": "execute_result"
    }
   ],
   "source": [
    "bigLossPercent.idxmin()"
   ]
  },
  {
   "cell_type": "code",
   "execution_count": 98,
   "metadata": {},
   "outputs": [],
   "source": [
    "xday = stock[bigLossPercent.nsmallest(1).index]"
   ]
  },
  {
   "cell_type": "code",
   "execution_count": 85,
   "metadata": {},
   "outputs": [],
   "source": [
    "percentLoss = bigLossPercent.min()*100"
   ]
  },
  {
   "cell_type": "code",
   "execution_count": 80,
   "metadata": {},
   "outputs": [
    {
     "data": {
      "text/plain": [
       "Date\n",
       "1999-01-22   0.41\n",
       "1999-01-25   0.45\n",
       "1999-01-26   0.42\n",
       "1999-01-27   0.42\n",
       "1999-01-28   0.42\n",
       "             ... \n",
       "2002-10-02   0.75\n",
       "2002-10-03   0.71\n",
       "2002-10-04   0.68\n",
       "2002-10-07   0.65\n",
       "2002-10-08   0.63\n",
       "Name: Close, Length: 933, dtype: float64"
      ]
     },
     "execution_count": 80,
     "metadata": {},
     "output_type": "execute_result"
    }
   ],
   "source": [
    "stock[stock.index<bigLossPercent.idxmin()]"
   ]
  },
  {
   "cell_type": "code",
   "execution_count": 83,
   "metadata": {},
   "outputs": [],
   "source": [
    "yday = (stock[stock.index<bigLossPercent.idxmin()]).nlargest(1)"
   ]
  },
  {
   "cell_type": "code",
   "execution_count": 103,
   "metadata": {},
   "outputs": [
    {
     "name": "stdout",
     "output_type": "stream",
     "text": [
      "buying on Date\n",
      "2002-01-03   5.98\n",
      "Name: Close, dtype: float64 day\n",
      "selling on Date\n",
      "2002-10-09   0.61\n",
      "Name: Close, dtype: float64 day\n",
      "causes a -89.7224872247936 percent loss\n"
     ]
    }
   ],
   "source": [
    "print ('buying on %s day' % yday)\n",
    "print ('selling on %s day' % xday)\n",
    "print (\"causes a %s percent loss\" % percentLoss)"
   ]
  }
 ],
 "metadata": {
  "kernelspec": {
   "display_name": "Python 3 (ipykernel)",
   "language": "python",
   "name": "python3"
  },
  "language_info": {
   "codemirror_mode": {
    "name": "ipython",
    "version": 3
   },
   "file_extension": ".py",
   "mimetype": "text/x-python",
   "name": "python",
   "nbconvert_exporter": "python",
   "pygments_lexer": "ipython3",
   "version": "3.9.12"
  }
 },
 "nbformat": 4,
 "nbformat_minor": 1
}
